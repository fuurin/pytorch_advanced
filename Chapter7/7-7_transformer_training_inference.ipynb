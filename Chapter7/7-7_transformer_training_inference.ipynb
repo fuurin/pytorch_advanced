{
 "cells": [
  {
   "cell_type": "markdown",
   "metadata": {},
   "source": [
    "# Transformerの学習・推論・可視化\n",
    "- IMDbのDataLoaderからデータを取り出す\n",
    "- Transformerを学習させる\n",
    "- ポジネガ推論させる\n",
    "- Self-Attentionで判定根拠を可視化"
   ]
  },
  {
   "cell_type": "markdown",
   "metadata": {},
   "source": [
    "## DataLoaderとTransformerモデルの用意"
   ]
  },
  {
   "cell_type": "code",
   "execution_count": 1,
   "metadata": {},
   "outputs": [],
   "source": [
    "import torch\n",
    "import torch.nn as nn\n",
    "import torch.optim as optim\n",
    "import numpy as np\n",
    "from utils.dataloader import get_IMDb_DataLoaders_and_TEXT\n",
    "from utils.transformer import TransformerClassification\n",
    "from IPython.display import clear_output\n",
    "import matplotlib.pyplot as plt\n",
    "%matplotlib inline"
   ]
  },
  {
   "cell_type": "code",
   "execution_count": 2,
   "metadata": {},
   "outputs": [],
   "source": [
    "model_path = \"../../datasets/ptca_datasets/chapter7/model.pkl\""
   ]
  },
  {
   "cell_type": "code",
   "execution_count": 3,
   "metadata": {},
   "outputs": [],
   "source": [
    "train_dl, val_dl, test_dl, TEXT = get_IMDb_DataLoaders_and_TEXT(\n",
    "    max_length = 256,\n",
    "    batch_size = 720\n",
    ")\n",
    "\n",
    "# 辞書にまとめる\n",
    "dataloaders_dict = {\"train\": train_dl, \"val\": val_dl}"
   ]
  },
  {
   "cell_type": "markdown",
   "metadata": {},
   "source": [
    "Transformerの全結合層は活性化関数がReLUなのでHeの初期値で初期化"
   ]
  },
  {
   "cell_type": "code",
   "execution_count": 4,
   "metadata": {},
   "outputs": [
    {
     "name": "stdout",
     "output_type": "stream",
     "text": [
      "使用デバイス: cuda:0\n",
      "ネットワーク設定完了\n"
     ]
    }
   ],
   "source": [
    "device = torch.device('cuda:0')\n",
    "print(\"使用デバイス:\", device)\n",
    "\n",
    "net = TransformerClassification(\n",
    "    device=device,\n",
    "    text_embedding_vectors=TEXT.vocab.vectors,\n",
    "    d_model=300,\n",
    "    max_seq_len=256,\n",
    "    output_dim=2\n",
    ")\n",
    "\n",
    "def weights_init(m):\n",
    "    classname = m.__class__.__name__\n",
    "    if classname.find('Linear') != -1:\n",
    "        nn.init.kaiming_normal_(m.weight)\n",
    "        if m.bias is not None:\n",
    "            nn.init.constant_(m.bias, 0.0)\n",
    "\n",
    "net.train()\n",
    "\n",
    "# net3_1, 3_2の各層にweights_initが適用される\n",
    "# apply fn recursively to every submodule\n",
    "net.net3_1.apply(weights_init)\n",
    "net.net3_2.apply(weights_init)\n",
    "\n",
    "print('ネットワーク設定完了')"
   ]
  },
  {
   "cell_type": "markdown",
   "metadata": {},
   "source": [
    "## 損失関数と最適化手法\n",
    "クラス分類なので損失には通常のクロスエントロピー損失を使用  \n",
    "なお，クロスエントロピー損失はLogSoftmax + Negative log likelihood loss  \n",
    "最適化手法にはAdamを使用"
   ]
  },
  {
   "cell_type": "code",
   "execution_count": 5,
   "metadata": {},
   "outputs": [],
   "source": [
    "criterion = nn.CrossEntropyLoss()\n",
    "\n",
    "learning_rate = 2e-5\n",
    "optimizer = optim.Adam(net.parameters(), lr=learning_rate)"
   ]
  },
  {
   "cell_type": "markdown",
   "metadata": {},
   "source": [
    "## 訓練と検証の関数の実装と実行\n",
    "モデルを訓練させる関数を実装し，学習を実行  \n",
    "Self-Attentionを確認するため訓練済みモデルをreturn"
   ]
  },
  {
   "cell_type": "code",
   "execution_count": 6,
   "metadata": {},
   "outputs": [],
   "source": [
    "def train_model(device, net, dataloaders_dict, criterion, optimizer, num_epochs):\n",
    "    print(\"学習開始\")\n",
    "    print(\"使用デバイス:\", device)\n",
    "    \n",
    "    net.to(device)\n",
    "    \n",
    "    # ネットワークがある程度固定であれば高速化\n",
    "    torch.backends.cudnn.benchmark = True\n",
    "    \n",
    "    loss_lists = {'train': [], 'val': []}\n",
    "    acc_lists = {'train': [], 'val': []}\n",
    "    \n",
    "    for epoch in range(1, num_epochs+1):\n",
    "        for phase in ['train', 'val']:\n",
    "            if phase == 'train':\n",
    "                net.train()\n",
    "            else:\n",
    "                net.eval()\n",
    "            \n",
    "            epoch_loss = 0.0   # epochの損失和\n",
    "            epoch_corrects = 0 # epochの正解数\n",
    "            \n",
    "            for batch in (dataloaders_dict[phase]):\n",
    "                # batchはTextとLabelの辞書\n",
    "                \n",
    "                inputs = batch.Text[0].to(device)\n",
    "                labels = batch.Label.to(device)\n",
    "                \n",
    "                # optimizerを初期化\n",
    "                optimizer.zero_grad()\n",
    "                \n",
    "                # 順伝播(forward)\n",
    "                # 勾配計算はphase == 'train'の時のみ行う\n",
    "                with torch.set_grad_enabled(phase == 'train'):\n",
    "                    \n",
    "                    # maskを作成\n",
    "                    input_pad = 1\n",
    "                    input_mask = (inputs != input_pad)\n",
    "                    \n",
    "                    # Transformerへ入力\n",
    "                    outputs, _, _ = net(inputs, input_mask)\n",
    "                    loss = criterion(outputs, labels)\n",
    "                    \n",
    "                    _, preds = torch.max(outputs, 1)\n",
    "                    \n",
    "                    # 訓練時は誤差逆伝播による勾配取得とパラメータの更新を行う\n",
    "                    if phase == 'train':\n",
    "                        loss.backward()\n",
    "                        optimizer.step()\n",
    "                    \n",
    "                    # 結果の計算\n",
    "                    epoch_loss += loss.item() * inputs.size(0) # バッチ数\n",
    "                    epoch_corrects += torch.sum(preds == labels.data)\n",
    "            \n",
    "            # epochごとのlossと正解率\n",
    "            data_len = len(dataloaders_dict[phase].dataset)\n",
    "            epoch_loss = epoch_loss / data_len\n",
    "            epoch_acc = epoch_corrects.double() / data_len\n",
    "            \n",
    "            loss_lists[phase].append(epoch_loss)\n",
    "            acc_lists[phase].append(epoch_acc)\n",
    "            \n",
    "            clear_output()\n",
    "            print(f\"Epoch {epoch}/{num_epochs} | {phase} | Loss {epoch_loss:.4f}, Acc: {epoch_acc:.4f}\")\n",
    "    \n",
    "    return net, loss_lists, acc_lists"
   ]
  },
  {
   "cell_type": "markdown",
   "metadata": {},
   "source": [
    "学習・検証を実施"
   ]
  },
  {
   "cell_type": "code",
   "execution_count": 7,
   "metadata": {},
   "outputs": [
    {
     "name": "stdout",
     "output_type": "stream",
     "text": [
      "Epoch 10/10 | val | Loss 0.4329, Acc: 0.8044\n"
     ]
    },
    {
     "data": {
      "image/png": "[encoded data removed]",
      "text/plain": [
       "<Figure size 432x288 with 2 Axes>"
      ]
     },
     "metadata": {
      "needs_background": "light"
     },
     "output_type": "display_data"
    }
   ],
   "source": [
    "num_epochs = 10\n",
    "\n",
    "net_trained, loss_lists, acc_lists = train_model(\n",
    "    device=device,\n",
    "    net=net,\n",
    "    dataloaders_dict=dataloaders_dict,\n",
    "    criterion=criterion,\n",
    "    optimizer=optimizer,\n",
    "    num_epochs=num_epochs\n",
    ")\n",
    "\n",
    "torch.save(net_trained.state_dict(), model_path)\n",
    "\n",
    "x = np.arange(1, len(loss_lists['train'])+1)\n",
    "fig, ax = plt.subplots(1, 2)\n",
    "ax[0].plot(x, loss_lists['train'], label='train')\n",
    "ax[0].plot(x, loss_lists['val'], label='val')\n",
    "ax[0].legend()\n",
    "ax[0].set_title('loss')\n",
    "ax[1].plot(x, acc_lists['train'], label='train')\n",
    "ax[1].plot(x, acc_lists['val'], label='val')\n",
    "ax[1].legend()\n",
    "ax[1].set_title('acc')\n",
    "plt.show()"
   ]
  },
  {
   "cell_type": "markdown",
   "metadata": {},
   "source": [
    "validationでの正解率は80%前後になった"
   ]
  },
  {
   "cell_type": "markdown",
   "metadata": {},
   "source": [
    "## テストデータでの推論と判定根拠の可視化\n",
    "Transformerのnet_trainedを使用してテストデータの正解率を求める  "
   ]
  },
  {
   "cell_type": "code",
   "execution_count": 3,
   "metadata": {},
   "outputs": [],
   "source": [
    "import torch\n",
    "from utils.dataloader import get_IMDb_DataLoaders_and_TEXT\n",
    "from utils.transformer import TransformerClassification"
   ]
  },
  {
   "cell_type": "code",
   "execution_count": 4,
   "metadata": {},
   "outputs": [],
   "source": [
    "model_path = \"../../datasets/ptca_datasets/chapter7/model.pkl\""
   ]
  },
  {
   "cell_type": "code",
   "execution_count": 5,
   "metadata": {},
   "outputs": [],
   "source": [
    "_, _, test_dl, TEXT = get_IMDb_DataLoaders_and_TEXT(\n",
    "    max_length = 256,\n",
    "    batch_size = 24\n",
    ")"
   ]
  },
  {
   "cell_type": "code",
   "execution_count": 6,
   "metadata": {},
   "outputs": [
    {
     "name": "stdout",
     "output_type": "stream",
     "text": [
      "使用デバイス: cuda:0\n",
      "テストデータ25000個での正解率:0.8014\n"
     ]
    }
   ],
   "source": [
    "device = torch.device('cuda:0')\n",
    "print(\"使用デバイス:\", device)\n",
    "\n",
    "net_test = TransformerClassification(\n",
    "    device=device,\n",
    "    text_embedding_vectors=TEXT.vocab.vectors,\n",
    "    d_model=300,\n",
    "    max_seq_len=256,\n",
    "    output_dim=2\n",
    ")\n",
    "\n",
    "net_test.load_state_dict(torch.load(model_path))\n",
    "net_test.eval()\n",
    "net_test.to(device)\n",
    "\n",
    "# 正解数\n",
    "corrects = 0\n",
    "\n",
    "for batch in (test_dl):\n",
    "    inputs = batch.Text[0].to(device)\n",
    "    labels = batch.Label.to(device)\n",
    "    \n",
    "    with torch.set_grad_enabled(False):\n",
    "        \n",
    "        # mask作成\n",
    "        input_pad = 1\n",
    "        input_mask = (inputs != input_pad)\n",
    "        \n",
    "        # Transformerに入力\n",
    "        outputs, _, _ = net_test(inputs, input_mask)\n",
    "        _, preds = torch.max(outputs, 1) # ラベルを予測\n",
    "        \n",
    "        # 正解数の合計を更新\n",
    "        corrects += torch.sum(preds == labels.data)\n",
    "\n",
    "# 正解率\n",
    "data_len = len(test_dl.dataset)\n",
    "acc = corrects.double() / data_len\n",
    "\n",
    "print(f\"テストデータ{data_len}個での正解率:{acc:.4f}\")"
   ]
  },
  {
   "cell_type": "markdown",
   "metadata": {},
   "source": [
    "テストデータでの正解率も80%くらいになった"
   ]
  }
 ],
 "metadata": {
  "kernelspec": {
   "display_name": "Python 3",
   "language": "python",
   "name": "python3"
  },
  "language_info": {
   "codemirror_mode": {
    "name": "ipython",
    "version": 3
   },
   "file_extension": ".py",
   "mimetype": "text/x-python",
   "name": "python",
   "nbconvert_exporter": "python",
   "pygments_lexer": "ipython3",
   "version": "3.6.5"
  }
 },
 "nbformat": 4,
 "nbformat_minor": 4
}
