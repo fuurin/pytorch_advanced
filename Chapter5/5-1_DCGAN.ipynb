{
 "cells": [
  {
   "cell_type": "markdown",
   "metadata": {},
   "source": [
    "# GANによる画像生成のメカニズムとDCGANの実装\n",
    "\n",
    "5章で学ぶこと\n",
    "- DCGAN\n",
    "- Self-Attention GAN  "
   ]
  },
  {
   "cell_type": "markdown",
   "metadata": {},
   "source": [
    "- Generatorの構造\n",
    "- Discriminatorの構造\n",
    "- GANの損失関数と学習の流れ\n",
    "- DCGANのネットワークを実装"
   ]
  },
  {
   "cell_type": "markdown",
   "metadata": {},
   "source": [
    "## フォルダ準備\n",
    "MNIST  \n",
    "scikit-learnから取得する  \n",
    "6章用のデータも一緒に用意"
   ]
  },
  {
   "cell_type": "code",
   "execution_count": 1,
   "metadata": {},
   "outputs": [],
   "source": [
    "import os\n",
    "from sklearn.datasets import fetch_openml\n",
    "from PIL import Image\n",
    "import numpy as np\n",
    "import matplotlib.pyplot as plt\n",
    "%matplotlib inline"
   ]
  },
  {
   "cell_type": "code",
   "execution_count": 7,
   "metadata": {},
   "outputs": [],
   "source": [
    "data_dir = \"../../datasets/ptca_datasets/chapter5\"\n",
    "img_78_path = os.path.join(data_dir, \"img_78\")\n",
    "test_path = os.path.join(data_dir, \"test\")\n",
    "\n",
    "for path in [data_dir, img_78_path, test_path]:\n",
    "    if not os.path.exists(path):\n",
    "        os.mkdir(path)"
   ]
  },
  {
   "cell_type": "code",
   "execution_count": 3,
   "metadata": {},
   "outputs": [],
   "source": [
    "# MNISTの手書き数字画像をダウンロードし読み込みます（2分ほど時間がかかります）\n",
    "mnist = fetch_openml('mnist_784', version=1, data_home=data_dir)  \n",
    "\n",
    "# データの取り出し\n",
    "X = mnist.data\n",
    "y = mnist.target"
   ]
  },
  {
   "cell_type": "code",
   "execution_count": 4,
   "metadata": {},
   "outputs": [
    {
     "name": "stdout",
     "output_type": "stream",
     "text": [
      "この画像データのラベルは5です\n"
     ]
    },
    {
     "data": {
      "image/png": "[encoded data removed]",
      "text/plain": [
       "<Figure size 432x288 with 1 Axes>"
      ]
     },
     "metadata": {
      "needs_background": "light"
     },
     "output_type": "display_data"
    }
   ],
   "source": [
    "# ロードできてるか確認\n",
    "plt.imshow(X[0].reshape(28, 28), cmap='gray')\n",
    "print(\"この画像データのラベルは{}です\".format(y[0]))"
   ]
  },
  {
   "cell_type": "code",
   "execution_count": 5,
   "metadata": {},
   "outputs": [],
   "source": [
    "# 時間短縮のため，7，8のみを扱うGANを作りたい．\n",
    "# MNISTから数字7、8の画像だけフォルダ「img_78」に(64,64)PIL画像として保存していく\n",
    "count7=0\n",
    "count8=0\n",
    "max_num=200  # 画像は200枚ずつ作成する\n",
    "\n",
    "for i in range(len(X)):\n",
    "    \n",
    "    # 画像7の作成\n",
    "    if (y[i] is \"7\") and (count7<max_num):\n",
    "        file_path=os.path.join(img_78_path, f\"img_7_{count7}.jpg\")\n",
    "        im_f=(X[i].reshape(28, 28))  # 画像を28×28の形に変形\n",
    "        pil_img_f = Image.fromarray(im_f.astype(np.uint8))  # 画像をPILに\n",
    "        pil_img_f = pil_img_f.resize((64, 64), Image.BICUBIC)  # 64×64に拡大\n",
    "        pil_img_f.save(file_path)  # 保存\n",
    "        count7+=1 \n",
    "    \n",
    "    # 画像8の作成\n",
    "    if (y[i] is \"8\") and (count8<max_num):\n",
    "        file_path=os.path.join(img_78_path, f\"img_8_{count8}.jpg\")\n",
    "        im_f=(X[i].reshape(28, 28))  # 画像を28*28の形に変形\n",
    "        pil_img_f = Image.fromarray(im_f.astype(np.uint8))  # 画像をPILに\n",
    "        pil_img_f = pil_img_f.resize((64, 64), Image.BICUBIC)  # 64×64に拡大\n",
    "        pil_img_f.save(file_path)  # 保存\n",
    "        count8+=1 "
   ]
  },
  {
   "cell_type": "code",
   "execution_count": 8,
   "metadata": {},
   "outputs": [],
   "source": [
    "# 6章用テストデータも作成\n",
    "count2=0\n",
    "count7=0\n",
    "count8=0\n",
    "max_num=5\n",
    "\n",
    "for i in range(2244,len(X)):\n",
    "    \n",
    "    # 画像2の作成\n",
    "    if (y[i] is \"2\") and (count2<max_num):\n",
    "        file_path=os.path.join(test_path, f\"img_2_{count2}.jpg\")\n",
    "        im_f=(X[i].reshape(28, 28))  # 画像を28×28の形に変形\n",
    "        pil_img_f = Image.fromarray(im_f.astype(np.uint8))  # 画像をPILに\n",
    "        pil_img_f = pil_img_f.resize((64, 64), Image.BICUBIC)  # 64×64に拡大\n",
    "        pil_img_f.save(file_path)  # 保存\n",
    "        count2+=1\n",
    "    \n",
    "    # 画像7の作成\n",
    "    if (y[i] is \"7\") and (count7<max_num):\n",
    "        file_path=os.path.join(test_path, f\"img_7_{count7}.jpg\")\n",
    "        im_f=(X[i].reshape(28, 28))  # 画像を28×28の形に変形\n",
    "        pil_img_f = Image.fromarray(im_f.astype(np.uint8))  # 画像をPILに\n",
    "        pil_img_f = pil_img_f.resize((64, 64), Image.BICUBIC)  # 64×64に拡大\n",
    "        pil_img_f.save(file_path)  # 保存\n",
    "        count7+=1 \n",
    "    \n",
    "    # 画像8の作成\n",
    "    if (y[i] is \"8\") and (count8<max_num):\n",
    "        file_path=os.path.join(test_path, f\"img_8_{count8}.jpg\")\n",
    "        im_f=(X[i].reshape(28, 28))  # 画像を28*28の形に変形\n",
    "        pil_img_f = Image.fromarray(im_f.astype(np.uint8))  # 画像をPILに\n",
    "        pil_img_f = pil_img_f.resize((64, 64), Image.BICUBIC)  # 64×64に拡大\n",
    "        pil_img_f.save(file_path)  # 保存\n",
    "        count8+=1 "
   ]
  },
  {
   "cell_type": "markdown",
   "metadata": {},
   "source": [
    "## Generatorのメカニズム\n",
    "教師データを手がかりとし，乱数を入力して手書き数字っぽい画像を出力する  \n",
    "  \n",
    "入力乱数をnn.ConvTranspose2d, 転置畳み込みによって画像に拡大  \n",
    "転置畳み込みでは，入力をカーネルフィルタにかけるので複雑な拡大処理を実現  \n",
    "なお，F.interpolateも拡大の機能を持つが，こちらはカーネルを使っていない  \n"
   ]
  },
  {
   "cell_type": "markdown",
   "metadata": {},
   "source": [
    "## Generatorの実装\n",
    "DCGAN(Deep Comvolution Generative Adversarial Network)を実装  \n",
    "DCGANは転置畳み込み, バッチNorm, ReLUを1セットにしたlayerを4回繰り返す  \n",
    "z_dimが乱数の次元で，所望の多様性を持つ次元を確保させる"
   ]
  },
  {
   "cell_type": "code",
   "execution_count": 6,
   "metadata": {},
   "outputs": [],
   "source": [
    "import torch\n",
    "from torch import nn, optim\n",
    "from torch.utils import data\n",
    "from torchvision import models, transforms\n",
    "from IPython.display import clear_output\n",
    "import time"
   ]
  },
  {
   "cell_type": "code",
   "execution_count": 7,
   "metadata": {},
   "outputs": [],
   "source": [
    "class Generator(nn.Module):\n",
    "    def __init__(self, z_dim=20, image_size=64):\n",
    "        super(Generator, self).__init__()\n",
    "        \n",
    "        self.layer1 = nn.Sequential(\n",
    "            nn.ConvTranspose2d(z_dim, image_size*8, kernel_size=4, stride=1),\n",
    "            nn.BatchNorm2d(image_size * 8),\n",
    "            nn.ReLU(inplace=True) # ReLUの省メモリ化\n",
    "        )\n",
    "        \n",
    "        self.layer2 = nn.Sequential(\n",
    "            nn.ConvTranspose2d(image_size*8, image_size*4, kernel_size=4, stride=2, padding=1),\n",
    "            nn.BatchNorm2d(image_size * 4),\n",
    "            nn.ReLU(inplace=True)\n",
    "        )\n",
    "        \n",
    "        self.layer3 = nn.Sequential(\n",
    "            nn.ConvTranspose2d(image_size*4, image_size*2, kernel_size=4, stride=2, padding=1),\n",
    "            nn.BatchNorm2d(image_size * 2),\n",
    "            nn.ReLU(inplace=True)\n",
    "        )\n",
    "\n",
    "        self.layer4 = nn.Sequential(\n",
    "            nn.ConvTranspose2d(image_size*2, image_size, kernel_size=4, stride=2, padding=1),\n",
    "            nn.BatchNorm2d(image_size),\n",
    "            nn.ReLU(inplace=True)\n",
    "        )\n",
    "\n",
    "        self.last = nn.Sequential(\n",
    "            # 白黒画像なので出力チャネルは1つだけ\n",
    "            nn.ConvTranspose2d(image_size, 1, kernel_size=4, stride=2, padding=1),\n",
    "            nn.Tanh()\n",
    "        )\n",
    "        \n",
    "    def forward(self, z):\n",
    "        out = self.layer1(z)\n",
    "        out = self.layer2(out)\n",
    "        out = self.layer3(out)\n",
    "        out = self.layer4(out)\n",
    "        out = self.last(out)\n",
    "        \n",
    "        return out"
   ]
  },
  {
   "cell_type": "markdown",
   "metadata": {},
   "source": [
    "実装したGで画像を生成してみると，砂嵐のような画像が出力される  \n",
    "Gの結合パラメータを学習させることで手書き数字画像を生成するようになる"
   ]
  },
  {
   "cell_type": "code",
   "execution_count": 8,
   "metadata": {},
   "outputs": [
    {
     "data": {
      "text/plain": [
       "<matplotlib.image.AxesImage at 0x7f1d015e0d30>"
      ]
     },
     "execution_count": 8,
     "metadata": {},
     "output_type": "execute_result"
    },
    {
     "data": {
      "image/png": "[encoded data removed]",
      "text/plain": [
       "<Figure size 432x288 with 1 Axes>"
      ]
     },
     "metadata": {
      "needs_background": "light"
     },
     "output_type": "display_data"
    }
   ],
   "source": [
    "G = Generator()\n",
    "\n",
    "input_z = torch.randn(1, 20)\n",
    "input_z = input_z.view(input_z.size(0), input_z.size(1), 1, 1) # (1,20, 1, 1)\n",
    "\n",
    "fake_images = G(input_z) # Gによる画像生成 (1, 1, 64, 64)\n",
    "img_transposed = fake_images[0][0].detach().numpy() # (0, 0)に画像\n",
    "\n",
    "plt.imshow(img_transposed, 'gray')"
   ]
  },
  {
   "cell_type": "markdown",
   "metadata": {},
   "source": [
    "## Discriminatorのメカニズム\n",
    "DはGの損失関数という立ち位置  \n",
    "- 生成画像をいちいち人出でラベルづけするのは大変\n",
    "- 初期状態では人から見たら全部だめなので，何が良いのか教えられない\n",
    "  \n",
    "DはNNによる画像分類を行い，本物なら0，偽物なら1を出力する  \n",
    "生成された画像に加えて，教師データとして本物の画像も判別させる  \n",
    "  \n",
    "このように，未熟なDとGが互いに騙し合いながら学習を進めることで，最終的に本物のような画像を生成するのが，GAN(Generative Adversarial Network)"
   ]
  },
  {
   "cell_type": "markdown",
   "metadata": {},
   "source": [
    "## Discriminatorの実装\n",
    "ただの画像分類NNで，本物なら0偽物なら1を出力するためCNNを使う  \n",
    "入力された値が負の値の時入力値にある係数をかけた負値を出力するLeakyReLUを活性化関数に使用する"
   ]
  },
  {
   "cell_type": "code",
   "execution_count": 9,
   "metadata": {},
   "outputs": [],
   "source": [
    "class Discriminator(nn.Module):\n",
    "    def __init__(self, z_dim=20, image_size=64):\n",
    "        super(Discriminator, self).__init__()\n",
    "        \n",
    "        self.layer1 = nn.Sequential(\n",
    "            # 白黒画像なので入力チャネルは1つだけ\n",
    "            nn.Conv2d(1, image_size, kernel_size=4, stride=2, padding=1),\n",
    "            nn.LeakyReLU(0.1, inplace=True)\n",
    "        )\n",
    "        \n",
    "        self.layer2 = nn.Sequential(\n",
    "            nn.Conv2d(image_size, image_size*2, kernel_size=4, stride=2, padding=1),\n",
    "            nn.LeakyReLU(0.1, inplace=True)\n",
    "        )\n",
    "\n",
    "        self.layer3 = nn.Sequential(\n",
    "            nn.Conv2d(image_size*2, image_size*4, kernel_size=4, stride=2, padding=1),\n",
    "            nn.LeakyReLU(0.1, inplace=True)\n",
    "        )\n",
    "        \n",
    "        self.layer4 = nn.Sequential(\n",
    "            nn.Conv2d(image_size*4, image_size*8, kernel_size=4, stride=2, padding=1),\n",
    "            nn.LeakyReLU(0.1, inplace=True)\n",
    "        )\n",
    "\n",
    "        self.last = nn.Conv2d(image_size*8, 1, kernel_size=4, stride=1)\n",
    "        \n",
    "    def forward(self, x):\n",
    "        out = self.layer1(x)\n",
    "        out = self.layer2(out)\n",
    "        out = self.layer3(out)\n",
    "        out = self.layer4(out)\n",
    "        out = self.last(out)\n",
    "        \n",
    "        return out"
   ]
  },
  {
   "cell_type": "markdown",
   "metadata": {},
   "source": [
    "実装したDでGの出力画像を判別させてみる  \n",
    "だいたい0.5くらいの出力が出て，まだ判別がちゃんとできないことがわかる"
   ]
  },
  {
   "cell_type": "code",
   "execution_count": 10,
   "metadata": {},
   "outputs": [
    {
     "name": "stdout",
     "output_type": "stream",
     "text": [
      "tensor([[[[0.5061]]]], grad_fn=<SigmoidBackward>)\n"
     ]
    }
   ],
   "source": [
    "D = Discriminator()\n",
    "d_out = D(fake_images)\n",
    "print(nn.Sigmoid()(d_out))"
   ]
  },
  {
   "cell_type": "markdown",
   "metadata": {},
   "source": [
    "# DCGANの損失関数，学習，生成の実装"
   ]
  },
  {
   "cell_type": "markdown",
   "metadata": {},
   "source": [
    "## GANの損失関数\n",
    "まずは$D$の損失関数について考える  \n",
    "入力画像$x$に対する識別器$D$の出力は$y=D(x)$と表される  \n",
    "教師ラベル$l\\in\\{0,1\\}$とすると，$D$の出力が正答かどうかは$y^l(1-y)^{1-l}$  \n",
    "($y=l$なら1, $y\\neq l$なら0, $y$の値が連続値でもそれぞれに近く)  \n",
    "これは$D$の出す結果が正しい確率と考えられる．\n",
    "  \n",
    "ミニバッチのデータ数$M$個に対する$D$の結果が全て正しくなる同時確率は\n",
    "$$\\prod^M_{i=1} y^l_i(1-y_i)^{1-l_i}$$\n",
    "この確率の対数をとり，最小化のためマイナスをつけると\n",
    "$$-\\sum^M_{i=1} [ l_i \\log y_i + (1-l_i) \\log (1-y_i) ]$$\n",
    "この損失関数はBinary Cross Entropy，2値分類の誤差関数である．  \n",
    "この損失を最小化することで$D$は多くの画像の分類を成功させられるようになる"
   ]
  },
  {
   "cell_type": "markdown",
   "metadata": {},
   "source": [
    "続いて，$G$の損失関数を考える  \n",
    "$D$の損失関数を最大化すればいいので，\n",
    "$$\\sum^M_{i=1} [ l_i \\log y_i + (1-l_i) \\log (1-y_i) ]$$\n",
    "さらに，ラベル$l_i$は偽画像であるので0, $y=D(x_i),x_i=G(z_i)$を代入すると  \n",
    "$$\\sum^M_{i=1} \\log (1-D(G(z_i)))$$\n",
    "しかし，この損失関数は学習が進みづらい．  \n",
    "初期のGは教師データとの違いが大きく，未熟なDでも判定できてしまう  \n",
    "すると，Dの出力の多くは0(偽)となるとき，すなわち嘘を見抜かれてしまった時，$\\log1=0$が多くなってしまうので，損失がほぼ0になってしまい，学習が進まない．"
   ]
  },
  {
   "cell_type": "markdown",
   "metadata": {},
   "source": [
    "そこで，$D(G(z_i))$が1になってくれた方がGは嬉しいことに着目し，損失関数を\n",
    "$$-\\sum^M_{i=1} \\log D(G(z_i))$$\n",
    "とする．これにより，Dの出力が0のことが多い時，すなわち嘘を見抜かれてしまった時には損失が大きく，逆に1が多い時には損失が0に近くということになる  "
   ]
  },
  {
   "cell_type": "markdown",
   "metadata": {},
   "source": [
    "また，DのNNにLeakyReLUを用いる理由を説明する  \n",
    "Gの損失関数にはDが入っている．  \n",
    "そのため，Gの誤差逆伝播の際にはDを通る必要がある．  \n",
    "このとき，ReLUへの逆入力が負であった場合，出力が0なので誤差逆伝播がDで止まってしまう．  \n",
    "これを防ぐために負の入力に対して0でない値を出力するLeakyReLUを使用する．  \n",
    "結果，Dを通しても誤差がしっかりGに伝わることになる\n",
    "  \n",
    "しかし，LeakyReLUは一般の深層学習で利用されるケースは少ない．  \n",
    "LeakyReLUは順方向での入力側に大きな誤差の責任を負わせることになるが，Gのミスに責任のないDiscriminatorを通るような特殊なネットワークでない限りは入力側と出力側の層の責任バランスを崩すことにしかならず，必ずしも性能的によくはないことになるためと考えられる．"
   ]
  },
  {
   "cell_type": "markdown",
   "metadata": {},
   "source": [
    "## DataLoaderの作成"
   ]
  },
  {
   "cell_type": "code",
   "execution_count": 11,
   "metadata": {},
   "outputs": [],
   "source": [
    "def make_datapath_list():\n",
    "    \"\"\"\n",
    "    学習，検証の画像データとアノテーションデータへのファイルパスリストを作成\n",
    "    \"\"\"\n",
    "    \n",
    "    train_img_list = []\n",
    "    \n",
    "    for img_idx in range(200):\n",
    "        img_path=os.path.join(img_78_path, f\"img_7_{img_idx}.jpg\")\n",
    "        train_img_list.append(img_path)\n",
    "        \n",
    "        img_path=os.path.join(img_78_path, f\"img_8_{img_idx}.jpg\")\n",
    "        train_img_list.append(img_path)\n",
    "    \n",
    "    return train_img_list"
   ]
  },
  {
   "cell_type": "code",
   "execution_count": 12,
   "metadata": {},
   "outputs": [],
   "source": [
    "class ImageTransform():\n",
    "    \"\"\"\n",
    "    画像の前処理クラス\n",
    "    \"\"\"\n",
    "    def __init__(self, mean, std):\n",
    "        self.data_transform = transforms.Compose([\n",
    "            transforms.ToTensor(),\n",
    "            transforms.Normalize(mean, std)\n",
    "        ])\n",
    "    \n",
    "    def __call__(self, img):\n",
    "        return self.data_transform(img)\n",
    "\n",
    "class GAN_Img_Dataset(data.Dataset):\n",
    "    def __init__(self, file_list, transform):\n",
    "        self.file_list = file_list\n",
    "        self.transform = transform\n",
    "    \n",
    "    def __len__(self):\n",
    "        return len(self.file_list)\n",
    "    \n",
    "    def __getitem__(self, index):\n",
    "        img_path = self.file_list[index]\n",
    "        img = Image.open(img_path)\n",
    "        img_transformed = self.transform(img)\n",
    "        return img_transformed"
   ]
  },
  {
   "cell_type": "markdown",
   "metadata": {},
   "source": [
    "DataLoaderの作成と動作確認"
   ]
  },
  {
   "cell_type": "code",
   "execution_count": 13,
   "metadata": {},
   "outputs": [
    {
     "name": "stdout",
     "output_type": "stream",
     "text": [
      "torch.Size([64, 1, 64, 64])\n"
     ]
    }
   ],
   "source": [
    "train_img_list = make_datapath_list()\n",
    "\n",
    "mean = (0.5,)\n",
    "std = (0.5,)\n",
    "train_dataset = GAN_Img_Dataset(file_list=train_img_list, transform=ImageTransform(mean, std))\n",
    "\n",
    "batch_size = 64\n",
    "train_dataloader = data.DataLoader(train_dataset, batch_size=batch_size, shuffle=True)\n",
    "\n",
    "batch_iterator = iter(train_dataloader)\n",
    "imges = next(batch_iterator)\n",
    "print(imges.size()) # (M, C, H, W)"
   ]
  },
  {
   "cell_type": "markdown",
   "metadata": {},
   "source": [
    "## DCGANの学習"
   ]
  },
  {
   "cell_type": "markdown",
   "metadata": {},
   "source": [
    "ネットワークの初期化  \n",
    "経験的にこのようなパラメータでうまくいくことが多いとの理由でやっている"
   ]
  },
  {
   "cell_type": "code",
   "execution_count": 14,
   "metadata": {},
   "outputs": [],
   "source": [
    "def weights_init(m):\n",
    "    classname = m.__class__.__name__\n",
    "    if classname.find(\"Conv\") != -1:\n",
    "        nn.init.normal_(m.weight.data, 0.0, 0.02)\n",
    "        nn.init.constant_(m.bias.data, 0)\n",
    "    elif classname.find(\"BatchNorm\") != -1:\n",
    "        nn.init.normal_(m.weight.data, 1.0, 0.02)\n",
    "        nn.init.constant_(m.bias.data, 0)"
   ]
  },
  {
   "cell_type": "code",
   "execution_count": 15,
   "metadata": {},
   "outputs": [
    {
     "name": "stdout",
     "output_type": "stream",
     "text": [
      "Generator(\n",
      "  (layer1): Sequential(\n",
      "    (0): ConvTranspose2d(20, 512, kernel_size=(4, 4), stride=(1, 1))\n",
      "    (1): BatchNorm2d(512, eps=1e-05, momentum=0.1, affine=True, track_running_stats=True)\n",
      "    (2): ReLU(inplace=True)\n",
      "  )\n",
      "  (layer2): Sequential(\n",
      "    (0): ConvTranspose2d(512, 256, kernel_size=(4, 4), stride=(2, 2), padding=(1, 1))\n",
      "    (1): BatchNorm2d(256, eps=1e-05, momentum=0.1, affine=True, track_running_stats=True)\n",
      "    (2): ReLU(inplace=True)\n",
      "  )\n",
      "  (layer3): Sequential(\n",
      "    (0): ConvTranspose2d(256, 128, kernel_size=(4, 4), stride=(2, 2), padding=(1, 1))\n",
      "    (1): BatchNorm2d(128, eps=1e-05, momentum=0.1, affine=True, track_running_stats=True)\n",
      "    (2): ReLU(inplace=True)\n",
      "  )\n",
      "  (layer4): Sequential(\n",
      "    (0): ConvTranspose2d(128, 64, kernel_size=(4, 4), stride=(2, 2), padding=(1, 1))\n",
      "    (1): BatchNorm2d(64, eps=1e-05, momentum=0.1, affine=True, track_running_stats=True)\n",
      "    (2): ReLU(inplace=True)\n",
      "  )\n",
      "  (last): Sequential(\n",
      "    (0): ConvTranspose2d(64, 1, kernel_size=(4, 4), stride=(2, 2), padding=(1, 1))\n",
      "    (1): Tanh()\n",
      "  )\n",
      ") \n",
      " Discriminator(\n",
      "  (layer1): Sequential(\n",
      "    (0): Conv2d(1, 64, kernel_size=(4, 4), stride=(2, 2), padding=(1, 1))\n",
      "    (1): LeakyReLU(negative_slope=0.1, inplace=True)\n",
      "  )\n",
      "  (layer2): Sequential(\n",
      "    (0): Conv2d(64, 128, kernel_size=(4, 4), stride=(2, 2), padding=(1, 1))\n",
      "    (1): LeakyReLU(negative_slope=0.1, inplace=True)\n",
      "  )\n",
      "  (layer3): Sequential(\n",
      "    (0): Conv2d(128, 256, kernel_size=(4, 4), stride=(2, 2), padding=(1, 1))\n",
      "    (1): LeakyReLU(negative_slope=0.1, inplace=True)\n",
      "  )\n",
      "  (layer4): Sequential(\n",
      "    (0): Conv2d(256, 512, kernel_size=(4, 4), stride=(2, 2), padding=(1, 1))\n",
      "    (1): LeakyReLU(negative_slope=0.1, inplace=True)\n",
      "  )\n",
      "  (last): Conv2d(512, 1, kernel_size=(4, 4), stride=(1, 1))\n",
      ")\n"
     ]
    }
   ],
   "source": [
    "G = Generator()\n",
    "D = Discriminator()\n",
    "\n",
    "G.apply(weights_init)\n",
    "D.apply(weights_init)\n",
    "\n",
    "print(G, \"\\n\", D)"
   ]
  },
  {
   "cell_type": "markdown",
   "metadata": {},
   "source": [
    "学習の関数を実装，損失関数の計算もやる"
   ]
  },
  {
   "cell_type": "code",
   "execution_count": 16,
   "metadata": {},
   "outputs": [],
   "source": [
    "def get_device(benchmark=True):\n",
    "    # GPUが使用可能ならば設定\n",
    "    device = torch.device(\"cuda:0\" if torch.cuda.is_available() else \"cpu\")\n",
    "    print(\"使用デバイス: \", device)\n",
    "    \n",
    "    # ネットワークがある程度固定であれば，高速化できる\n",
    "    torch.backends.cudnn.benchmark = benchmark\n",
    "    \n",
    "    return device"
   ]
  },
  {
   "cell_type": "code",
   "execution_count": 17,
   "metadata": {},
   "outputs": [],
   "source": [
    "def train_model(G, D, dataloader, num_epochs, device=None):\n",
    "    \n",
    "    # パラメータはハードコーディングしてしまう\n",
    "    g_lr, d_lr = 0.0001, 0.0004\n",
    "    beta1, beta2 = 0.0, 0.9\n",
    "    z_dim = 20\n",
    "    \n",
    "    # 最適化手法\n",
    "    g_optimizer = torch.optim.Adam(G.parameters(), g_lr, [beta1, beta2])\n",
    "    d_optimizer = torch.optim.Adam(D.parameters(), d_lr, [beta1, beta2])\n",
    "    \n",
    "    # 誤差関数\n",
    "    criterion = nn.BCEWithLogitsLoss(reduction='mean')\n",
    "    \n",
    "    # モデルの学習準備\n",
    "    if device:\n",
    "        G.to(device)\n",
    "        D.to(device)\n",
    "    G.train()\n",
    "    D.train()\n",
    "    \n",
    "    # 画像の枚数\n",
    "    num_train_imgs = len(dataloader.dataset)\n",
    "    batch_size = dataloader.batch_size\n",
    "    \n",
    "    # 学習ループ\n",
    "    iteration = 1\n",
    "    logs = []\n",
    "    for epoch in range(num_epochs):\n",
    "        \n",
    "        t_epoch_start = time.time()\n",
    "        epoch_g_loss = 0.0\n",
    "        epoch_d_loss = 0.0\n",
    "        \n",
    "        clear_output()\n",
    "        print(\"-----------------\")\n",
    "        print(f\"Epoch {epoch+1}/{num_epochs}\")\n",
    "        print(\"-----------------\")\n",
    "        print(' (train) ')\n",
    "        \n",
    "        # データローダーからminibatch_sizeずつ取り出す\n",
    "        for images in dataloader:\n",
    "            \n",
    "            # ミニバッチサイズが1だとBatchNormでエラーになるので避ける\n",
    "            mini_batch_size = images.size()[0]\n",
    "            if mini_batch_size == 1:\n",
    "                continue\n",
    "            \n",
    "            \n",
    "            #################\n",
    "            # データの作成\n",
    "            #################\n",
    "            label_real = torch.full((mini_batch_size,), 1)\n",
    "            label_fake = torch.full((mini_batch_size,), 0)\n",
    "            input_d_z = torch.randn(mini_batch_size, z_dim)\n",
    "            input_d_z = input_d_z.view(input_d_z.size(0), input_d_z.size(1), 1, 1)\n",
    "            input_g_z = torch.randn(mini_batch_size, z_dim)\n",
    "            input_g_z = input_g_z.view(input_g_z.size(0), input_g_z.size(1), 1, 1)\n",
    "            \n",
    "            # GPUが使えるならデータを渡す\n",
    "            if device:\n",
    "                images = images.to(device)\n",
    "                label_real = label_real.to(device)\n",
    "                label_fake = label_fake.to(device)\n",
    "                input_d_z = input_d_z.to(device)\n",
    "                input_g_z = input_g_z.to(device)\n",
    "\n",
    "            \n",
    "            #################\n",
    "            # Discriminator\n",
    "            #################\n",
    "            \n",
    "            # 本物の画像と偽物の画像を判定\n",
    "            d_out_real = D(images)\n",
    "            d_out_fake = D(G(input_d_z))\n",
    "            \n",
    "            # 誤差を計算\n",
    "            d_loss_real = criterion(d_out_real.view(-1), label_real)\n",
    "            d_loss_fake = criterion(d_out_fake.view(-1), label_fake)\n",
    "            d_loss = d_loss_real + d_loss_fake\n",
    "            \n",
    "            # 誤差逆伝搬\n",
    "            g_optimizer.zero_grad()\n",
    "            d_optimizer.zero_grad()\n",
    "            d_loss.backward()\n",
    "            d_optimizer.step()\n",
    "            \n",
    "            \n",
    "            #################\n",
    "            # Generator\n",
    "            #################\n",
    "            \n",
    "            # 偽の画像を生成して判定\n",
    "            d_out_fake = D(G(input_g_z))\n",
    "            \n",
    "            # 誤差を計算\n",
    "            g_loss = criterion(d_out_fake.view(-1), label_real)\n",
    "            \n",
    "            # 誤差逆伝搬\n",
    "            g_optimizer.zero_grad()\n",
    "            d_optimizer.zero_grad()\n",
    "            g_loss.backward()\n",
    "            g_optimizer.step()\n",
    "            \n",
    "            \n",
    "            #################\n",
    "            # 記録\n",
    "            #################\n",
    "            epoch_d_loss += d_loss.item()\n",
    "            epoch_g_loss += g_loss.item()\n",
    "            iteration += 1\n",
    "        \n",
    "        \n",
    "        print(\"-----------------\")\n",
    "        \n",
    "        d_loss = epoch_d_loss / batch_size\n",
    "        g_loss = epoch_g_loss / batch_size\n",
    "        print(f\"epoch {epoch+1} | D loss: {d_loss} | G loss: {g_loss}\")\n",
    "        \n",
    "        t_epoch_finish = time.time()\n",
    "        print(f\"timer: {t_epoch_finish - t_epoch_start}\")\n",
    "        t_epoch_start = time.time()\n",
    "    \n",
    "    return G, D"
   ]
  },
  {
   "cell_type": "markdown",
   "metadata": {},
   "source": [
    "学習を開始"
   ]
  },
  {
   "cell_type": "code",
   "execution_count": 18,
   "metadata": {},
   "outputs": [
    {
     "name": "stdout",
     "output_type": "stream",
     "text": [
      "-----------------\n",
      "Epoch 200/200\n",
      "-----------------\n",
      " (train) \n",
      "-----------------\n",
      "epoch 200 | D loss: 0.050102896988391876 | G loss: 0.2855973970144987\n",
      "timer: 0.3775811195373535\n"
     ]
    }
   ],
   "source": [
    "device = get_device()\n",
    "G_update, D_update = train_model(\n",
    "    G=G,\n",
    "    D=D,\n",
    "    dataloader=train_dataloader,\n",
    "    num_epochs=200,\n",
    "    device=device\n",
    ")"
   ]
  },
  {
   "cell_type": "markdown",
   "metadata": {},
   "source": [
    "学習の結果"
   ]
  },
  {
   "cell_type": "code",
   "execution_count": 19,
   "metadata": {},
   "outputs": [
    {
     "data": {
      "image/png": "[encoded data removed]",
      "text/plain": [
       "<Figure size 1080x432 with 10 Axes>"
      ]
     },
     "metadata": {
      "needs_background": "light"
     },
     "output_type": "display_data"
    }
   ],
   "source": [
    "# 生成データ\n",
    "batch_size = 8\n",
    "z_dim = 20\n",
    "fixed_z = torch.randn(batch_size, z_dim)\n",
    "fixed_z = fixed_z.view(fixed_z.size(0), fixed_z.size(1), 1, 1)\n",
    "fake_images = G_update(fixed_z.to(device))\n",
    "\n",
    "# 本物データ\n",
    "batch_iterator = iter(train_dataloader)\n",
    "images = next(batch_iterator)\n",
    "\n",
    "# 表示\n",
    "fig = plt.figure(figsize=(15, 6))\n",
    "for i in range(0, 5):\n",
    "    # 上段は訓練データ\n",
    "    plt.subplot(2, 5, i+1)\n",
    "    plt.imshow(images[i][0].cpu().detach().numpy(), 'gray')\n",
    "    \n",
    "    # 下段は生成データ\n",
    "    plt.subplot(2, 5, 5+i+1)\n",
    "    plt.imshow(fake_images[i][0].cpu().detach().numpy(), 'gray')"
   ]
  },
  {
   "cell_type": "markdown",
   "metadata": {},
   "source": [
    "良い感じに手書き数字が出力されている  \n",
    "epoch数を増やすと構造が単純でDを騙しやすい7ばっかり生成する  \n",
    "このように教師データの一部しか生成しなくなる現象をモード崩壊と呼ぶ  \n",
    "一般的に，GANの学習を安定的に行うのは難しいとされている"
   ]
  }
 ],
 "metadata": {
  "kernelspec": {
   "display_name": "Python 3",
   "language": "python",
   "name": "python3"
  },
  "language_info": {
   "codemirror_mode": {
    "name": "ipython",
    "version": 3
   },
   "file_extension": ".py",
   "mimetype": "text/x-python",
   "name": "python",
   "nbconvert_exporter": "python",
   "pygments_lexer": "ipython3",
   "version": "3.6.5"
  }
 },
 "nbformat": 4,
 "nbformat_minor": 4
}
